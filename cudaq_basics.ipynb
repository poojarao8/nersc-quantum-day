{
 "cells": [
  {
   "cell_type": "markdown",
   "metadata": {},
   "source": [
    "# CUDA Quantum 101\n",
    "    Important Links \n",
    "    \n",
    "    * Installation (Docker recommended)\n",
    "        https://nvidia.github.io/cuda-quantum/latest/install.html \n",
    "    * Documentation\n",
    "        https://nvidia.github.io/cuda-quantum/latest/index.html\n",
    "    * CUDA Quantum repo\n",
    "        https://github.com/NVIDIA/cuda-quantum\n",
    "\n",
    "\n",
    "    Outline \n",
    "\n",
    "    1. What is CUDA Quantum? \n",
    "    2. CUDA Quantum Kernels\n",
    "    3. CUDA Q Algorithmic Primitives\n",
    "        3.1 cudaq.sample() \n",
    "        3.2 cudaq.spin_op()\n",
    "        3.3 cudaq.observe()\n",
    "    4. Parameterized circuits \n",
    "    5. Noise-modeling"
   ]
  },
  {
   "cell_type": "markdown",
   "metadata": {},
   "source": [
    "## Excerpts from a 2018 DOE report\n",
    "<img src=\"excerpts_report2018.png\" alt=\"Image Title\" width=\"700\">"
   ]
  },
  {
   "cell_type": "code",
   "execution_count": 4,
   "metadata": {},
   "outputs": [],
   "source": [
    "# Import the CUDA Quantum module\n",
    "import cudaq"
   ]
  },
  {
   "cell_type": "markdown",
   "metadata": {},
   "source": [
    "### 2. CUDA Quantum Kernel "
   ]
  },
  {
   "cell_type": "markdown",
   "metadata": {},
   "source": [
    "# We begin by defining the `Kernel` that we will construct our\n",
    "# program with.\n",
    "kernel = cudaq.make_kernel()"
   ]
  },
  {
   "cell_type": "code",
   "execution_count": null,
   "metadata": {},
   "outputs": [],
   "source": [
    "# Next, we can allocate qubits to the kernel via `qalloc(qubit_count)`.\n",
    "# An empty call to `qalloc` will return a single qubit.\n",
    "qubit = kernel.qalloc()"
   ]
  },
  {
   "cell_type": "code",
   "execution_count": null,
   "metadata": {},
   "outputs": [],
   "source": [
    "# Now we can begin adding instructions to apply to this qubit!\n",
    "# Here we'll just add every non-parameterized\n",
    "# single qubit gates that are supported by CUDA Quantum.\n",
    "kernel.h(qubit)\n",
    "kernel.x(qubit)\n",
    "kernel.y(qubit)\n",
    "kernel.z(qubit)\n",
    "kernel.t(qubit)\n",
    "kernel.s(qubit)"
   ]
  },
  {
   "cell_type": "code",
   "execution_count": null,
   "metadata": {},
   "outputs": [],
   "source": [
    "# Next, we add a measurement to the kernel so that we can sample\n",
    "# the measurement results on our simulator!\n",
    "kernel.mz(qubit)"
   ]
  },
  {
   "cell_type": "code",
   "execution_count": null,
   "metadata": {},
   "outputs": [],
   "source": [
    "# Other methods and attributes available to the kernel object\n",
    "#dir(kernel)\n",
    "#help(kernel.tdg)"
   ]
  },
  {
   "cell_type": "markdown",
   "metadata": {},
   "source": [
    "1. CUDA Quantum Kernels continued\n",
    "        1.1 Adjoint \n",
    "        1.2 Conditionals "
   ]
  },
  {
   "cell_type": "markdown",
   "metadata": {},
   "source": [
    "###     3. Algorithmic primitives"
   ]
  },
  {
   "cell_type": "code",
   "execution_count": null,
   "metadata": {},
   "outputs": [],
   "source": [
    "  Algorithmic primitives are common programming patterns that have been implemented in the CUDA Quantum library.\n",
    "\n",
    "    3.1 cudaq.sample()\n",
    "    3.2 cudaq.observe()\n",
    "    3.3 cudaq.spin_op()"
   ]
  },
  {
   "cell_type": "markdown",
   "metadata": {},
   "source": [
    "#### 3.1. cudaq.sample()"
   ]
  },
  {
   "cell_type": "markdown",
   "metadata": {},
   "source": [
    "   The sample() function performs multiple measurements of the circuit(1000 shots by default) and returns a dictionary of the measurement outcomes along with their respective counts. "
   ]
  },
  {
   "cell_type": "code",
   "execution_count": null,
   "metadata": {},
   "outputs": [],
   "source": [
    "# Finally, we can execute this kernel on the state vector simulator\n",
    "# by calling `cudaq.sample`. This will execute the provided kernel\n",
    "# `shots_count` number of times and return the sampled distribution\n",
    "# as a `cudaq.SampleResult` dictionary.\n",
    "sample_result = cudaq.sample(kernel)\n",
    "\n",
    "# Now let's take a look at the `SampleResult` we've gotten back!\n",
    "print(sample_result)  # or result.dump()     "
   ]
  },
  {
   "cell_type": "markdown",
   "metadata": {},
   "source": [
    "    Putting it all together!"
   ]
  },
  {
   "cell_type": "code",
   "execution_count": null,
   "metadata": {},
   "outputs": [],
   "source": [
    "import cudaq\n",
    "\n",
    "kernel = cudaq.make_kernel()\n",
    "qubit = kernel.qalloc(2)\n",
    "                                  \n",
    "kernel.h(qubit)\n",
    "kernel.x(qubit)\n",
    "kernel.y(qubit)\n",
    "kernel.z(qubit)\n",
    "kernel.t(qubit)\n",
    "kernel.s(qubit)\n",
    "\n",
    "kernel.mz(qubit)\n",
    "\n",
    "# 1000 is the default\n",
    "sample_result = cudaq.sample(kernel, shots_count=2000) \n",
    "\n",
    "print(sample_result)  # or sample_result.dump() "
   ]
  },
  {
   "cell_type": "code",
   "execution_count": null,
   "metadata": {},
   "outputs": [],
   "source": [
    "# Other methods and attributes available to the kernel object\n",
    "#dir(sample_result)\n",
    "#help(sample_result.values)"
   ]
  },
  {
   "cell_type": "code",
   "execution_count": null,
   "metadata": {},
   "outputs": [],
   "source": [
    "# Extracting data from sample\n",
    "\n",
    "print(f\"most probable = {sample_result.most_probable()}\")\n",
    "print(f\"expectation_value = {sample_result.expectation_z()}\")\n",
    "print(f\"count = {sample_result.count('1')}\")\n",
    "print(f\"probability = {sample_result.probability('1')}\")\n"
   ]
  },
  {
   "cell_type": "code",
   "execution_count": null,
   "metadata": {},
   "outputs": [],
   "source": [
    "# clear results, result should now be empty\n",
    "sample_result.clear()"
   ]
  },
  {
   "cell_type": "markdown",
   "metadata": {},
   "source": [
    "####  3.2. cudaq.spin_op()"
   ]
  },
  {
   "cell_type": "markdown",
   "metadata": {},
   "source": [
    "     \n",
    "    The spin_op represents a general sum of Pauli tensor products. It exposes the typical algebraic operations that allow programmers to define primitive Pauli operators and use them to compose larger, more complex Pauli tensor products and sums thereof. \n",
    "\n",
    "Let's say our Hamitonian is $Z_0 \\otimes I_1 + I_0 \\otimes X_1 + Y_0 \\otimes I_1 + Y_0 \\otimes Y_1$."
   ]
  },
  {
   "cell_type": "code",
   "execution_count": null,
   "metadata": {},
   "outputs": [],
   "source": [
    "# Importing the spin_op\n",
    "from cudaq import spin\n",
    "\n",
    "# the obseravle \n",
    "hamiltonian = spin.z(0) + spin.x(1) + spin.y(0) + spin.y(0)*spin.y(1)\n",
    "hamiltonian.dump()"
   ]
  },
  {
   "cell_type": "code",
   "execution_count": null,
   "metadata": {},
   "outputs": [],
   "source": [
    "#dir(hamiltonian)\n",
    "#help(hamiltonian.dump)"
   ]
  },
  {
   "cell_type": "markdown",
   "metadata": {},
   "source": [
    "#### 3.3. cudaq.observe()\n",
    "\n",
    "Compute the expected value of the observable."
   ]
  },
  {
   "cell_type": "code",
   "execution_count": null,
   "metadata": {},
   "outputs": [],
   "source": [
    "# First we need to construct a cuda quantum kernel\n",
    "kernel = cudaq.make_kernel()\n",
    "qreg = kernel.qalloc(2)\n",
    "kernel.x(qreg[0])"
   ]
  },
  {
   "cell_type": "code",
   "execution_count": null,
   "metadata": {},
   "outputs": [],
   "source": [
    "# The cudaq.observe() takes the quantum circuit and the observable as input params\n",
    "observe_result = cudaq.observe(kernel, hamiltonian, shots_count=1000)"
   ]
  },
  {
   "cell_type": "code",
   "execution_count": null,
   "metadata": {},
   "outputs": [],
   "source": [
    "print(observe_result.dump())\n",
    "observe_result.expectation_z()"
   ]
  },
  {
   "cell_type": "code",
   "execution_count": null,
   "metadata": {},
   "outputs": [],
   "source": [
    "# For a complete list of attributes\n",
    "# dir (observe_result)"
   ]
  },
  {
   "cell_type": "markdown",
   "metadata": {},
   "source": [
    "    Putting it all together!"
   ]
  },
  {
   "cell_type": "code",
   "execution_count": null,
   "metadata": {},
   "outputs": [],
   "source": [
    "import cudaq\n",
    "from cudaq import spin\n",
    "\n",
    "# First we need to construct a cuda quantum kernel\n",
    "kernel = cudaq.make_kernel()\n",
    "qreg = kernel.qalloc(2)\n",
    "kernel.x(qreg[0])\n",
    "\n",
    "# The cudaq.observe() takes the quantum circuit and the observable as input params\n",
    "observe_result = cudaq.observe(kernel, hamiltonian, shots_count=10000)\n",
    "\n",
    "print(observe_result.dump())\n",
    "observe_result.expectation_z()"
   ]
  },
  {
   "cell_type": "markdown",
   "metadata": {},
   "source": [
    "### 4. Parameterized circuits"
   ]
  },
  {
   "cell_type": "code",
   "execution_count": null,
   "metadata": {},
   "outputs": [],
   "source": [
    "import cudaq\n",
    "from cudaq import spin\n",
    "\n",
    "# the obserable \n",
    "hamiltonian = 5.907 - 2.1433 * spin.x(0) * spin.x(1) \\\n",
    "            - 2.1433 * spin.y(0) * spin.y(1) + 0.21829 * spin.z(0) \\\n",
    "            - 6.125 * spin.z(1)\n",
    "\n",
    "# parameterized cudaq kernel, the parameter is of type float\n",
    "kernel, theta = cudaq.make_kernel(float)\n",
    "q = kernel.qalloc(2)\n",
    "kernel.x(q[0])\n",
    "kernel.ry(theta, q[1])\n",
    "kernel.cx(q[1], q[0])\n",
    "\n",
    "# observe() takes the kernel, the observable and the kernel paramter(s)\n",
    "# as args\n",
    "observe_result = cudaq.observe(kernel, hamiltonian, .59)\n",
    "print(observe_result.dump())\n",
    "observe_result.expectation_z()"
   ]
  },
  {
   "cell_type": "markdown",
   "metadata": {},
   "source": [
    "#### 3.1 Quantum Hardware Integration"
   ]
  },
  {
   "cell_type": "code",
   "execution_count": 1,
   "metadata": {},
   "outputs": [
    {
     "ename": "RuntimeError",
     "evalue": "Cannot find Quantinuum Config file with credentials (~/.quantinuum_config).",
     "output_type": "error",
     "traceback": [
      "\u001b[0;31m---------------------------------------------------------------------------\u001b[0m",
      "\u001b[0;31mRuntimeError\u001b[0m                              Traceback (most recent call last)",
      "\u001b[1;32m/workspaces/nersc_talk/cudaq101.ipynb Cell 34\u001b[0m line \u001b[0;36m2\n\u001b[1;32m     <a href='vscode-notebook-cell://attached-container%2B7b22636f6e7461696e65724e616d65223a222f6c61746573742d31303238227d@ssh-remote%2B192.168.1.100/workspaces/nersc_talk/cudaq101.ipynb#X50sdnNjb2RlLXJlbW90ZQ%3D%3D?line=11'>12</a>\u001b[0m kernel\u001b[39m.\u001b[39mmz(qubits)\n\u001b[1;32m     <a href='vscode-notebook-cell://attached-container%2B7b22636f6e7461696e65724e616d65223a222f6c61746573742d31303238227d@ssh-remote%2B192.168.1.100/workspaces/nersc_talk/cudaq101.ipynb#X50sdnNjb2RlLXJlbW90ZQ%3D%3D?line=13'>14</a>\u001b[0m \u001b[39m# Submit to Quantinuum's endpoint and confirm the program is valid.\u001b[39;00m\n\u001b[1;32m     <a href='vscode-notebook-cell://attached-container%2B7b22636f6e7461696e65724e616d65223a222f6c61746573742d31303238227d@ssh-remote%2B192.168.1.100/workspaces/nersc_talk/cudaq101.ipynb#X50sdnNjb2RlLXJlbW90ZQ%3D%3D?line=14'>15</a>\u001b[0m \n\u001b[1;32m     <a href='vscode-notebook-cell://attached-container%2B7b22636f6e7461696e65724e616d65223a222f6c61746573742d31303238227d@ssh-remote%2B192.168.1.100/workspaces/nersc_talk/cudaq101.ipynb#X50sdnNjb2RlLXJlbW90ZQ%3D%3D?line=15'>16</a>\u001b[0m \u001b[39m# By using the synchronous `cudaq.sample`, the execution of\u001b[39;00m\n\u001b[0;32m   (...)\u001b[0m\n\u001b[1;32m     <a href='vscode-notebook-cell://attached-container%2B7b22636f6e7461696e65724e616d65223a222f6c61746573742d31303238227d@ssh-remote%2B192.168.1.100/workspaces/nersc_talk/cudaq101.ipynb#X50sdnNjb2RlLXJlbW90ZQ%3D%3D?line=18'>19</a>\u001b[0m \u001b[39m# We will use the synchronous call to submit to the syntax\u001b[39;00m\n\u001b[1;32m     <a href='vscode-notebook-cell://attached-container%2B7b22636f6e7461696e65724e616d65223a222f6c61746573742d31303238227d@ssh-remote%2B192.168.1.100/workspaces/nersc_talk/cudaq101.ipynb#X50sdnNjb2RlLXJlbW90ZQ%3D%3D?line=19'>20</a>\u001b[0m \u001b[39m# checker to confirm the validity of the program.\u001b[39;00m\n\u001b[0;32m---> <a href='vscode-notebook-cell://attached-container%2B7b22636f6e7461696e65724e616d65223a222f6c61746573742d31303238227d@ssh-remote%2B192.168.1.100/workspaces/nersc_talk/cudaq101.ipynb#X50sdnNjb2RlLXJlbW90ZQ%3D%3D?line=20'>21</a>\u001b[0m counts \u001b[39m=\u001b[39m cudaq\u001b[39m.\u001b[39;49msample(kernel)\n\u001b[1;32m     <a href='vscode-notebook-cell://attached-container%2B7b22636f6e7461696e65724e616d65223a222f6c61746573742d31303238227d@ssh-remote%2B192.168.1.100/workspaces/nersc_talk/cudaq101.ipynb#X50sdnNjb2RlLXJlbW90ZQ%3D%3D?line=21'>22</a>\u001b[0m counts\u001b[39m.\u001b[39mdump()\n\u001b[1;32m     <a href='vscode-notebook-cell://attached-container%2B7b22636f6e7461696e65724e616d65223a222f6c61746573742d31303238227d@ssh-remote%2B192.168.1.100/workspaces/nersc_talk/cudaq101.ipynb#X50sdnNjb2RlLXJlbW90ZQ%3D%3D?line=22'>23</a>\u001b[0m \u001b[39massert\u001b[39;00m (\u001b[39mlen\u001b[39m(counts) \u001b[39m==\u001b[39m \u001b[39m2\u001b[39m)\n",
      "\u001b[0;31mRuntimeError\u001b[0m: Cannot find Quantinuum Config file with credentials (~/.quantinuum_config)."
     ]
    }
   ],
   "source": [
    "# This code will give an error!!!!!\n",
    "import cudaq\n",
    "\n",
    "# Set the target \n",
    "cudaq.set_target(\"quantinuum\")\n",
    "\n",
    "# Create the kernel we'd like to execute on Quantinuum.\n",
    "kernel = cudaq.make_kernel()\n",
    "qubits = kernel.qalloc(2)\n",
    "kernel.h(qubits[0])\n",
    "kernel.cx(qubits[0], qubits[1])\n",
    "kernel.mz(qubits)\n",
    "\n",
    "# Submit to Quantinuum's endpoint and confirm the program is valid.\n",
    "\n",
    "# By using the synchronous `cudaq.sample`, the execution of\n",
    "# any remaining classical code in the file will occur only\n",
    "# after the job has been executed by the Quantinuum service.\n",
    "# We will use the synchronous call to submit to the syntax\n",
    "# checker to confirm the validity of the program.\n",
    "counts = cudaq.sample(kernel)\n",
    "counts.dump()\n",
    "assert (len(counts) == 2)\n",
    "assert ('00' in counts)\n",
    "assert ('11' in counts)"
   ]
  },
  {
   "cell_type": "markdown",
   "metadata": {},
   "source": [
    "### 4. Noise modeling"
   ]
  },
  {
   "cell_type": "markdown",
   "metadata": {},
   "source": [
    "Common sources of errors in quantum computation.\n",
    "\n",
    "    1. Quantum gate errors\n",
    "    2. Measurement errors\n",
    "    3. Decoherence\n",
    "    4. Crosstalk\n",
    "\n",
    "    * Decoherence refers to the process by which a quantum system loses its quantum coherence, or its ability to exist in a superposition of states due to interaction with the environment.\n",
    "    \n",
    "    The evolution of a quantum system that interacts with its environment is described using quantum channels. "
   ]
  },
  {
   "cell_type": "markdown",
   "metadata": {},
   "source": [
    "##### Kraus Representation"
   ]
  },
  {
   "cell_type": "markdown",
   "metadata": {},
   "source": [
    "    The different sources of noise that we discussed above can be represnted mathematically using the Kraus operators.\n",
    "    \n",
    "\\begin{equation*}\n",
    "\\rho \\mapsto {\\cal{N}}(\\rho) = \\sum_{j} K_j \\rho K_j^{\\dag}\n",
    "\\end{equation*}\n",
    "\n",
    "    with the condition that \n",
    "    \n",
    "\\begin{equation*}\n",
    "\\sum_{j} K_j K_j^{\\dag} = \\mathbb{I}.\n",
    "\\end{equation*}"
   ]
  },
  {
   "cell_type": "markdown",
   "metadata": {},
   "source": [
    "##### Some single-qubit errors\n",
    "\n",
    "Bit-flip error\n",
    "\n",
    "    - The state of the qubit is chaged from |0⟩ to |1⟩ or vice-versa\n",
    "    - key-operator is Pauli X\n",
    "    - Kraus reprenetation \n",
    "\n",
    "\\begin{equation*}\n",
    "    \\rho = (1-p) \\rho + p X\\rho X \n",
    "\\end{equation*}\n",
    "    with p in [0,1].\n",
    "\n",
    "\n",
    "Phase-flip error\n",
    "\n",
    "    - The relative phase of a qubit is changed, but it's magnitude remains the same\n",
    "    - |0⟩ to -|0⟩ and |1⟩ to -|1⟩\n",
    "    - key-operator is Pauli Z\n",
    "\n",
    "\\begin{equation*}\n",
    "    \\rho = (1-p) \\rho + p Z\\rho Z \n",
    "\\end{equation*}\n",
    "    with p in [0,1].    \n",
    "\n",
    "Amplitude damping \n",
    "\n",
    "    - the qubit decayz from |1⟩ to the lower energy state |0⟩\n",
    "    \n",
    "\\begin{equation*}\n",
    "    \\rho = K_1 \\rho K_1^{\\dag} + K_2 \\rho K_2^{\\dag}, \n",
    "\\end{equation*}\n",
    " where $K_1 = [1,0;0,\\sqrt{1-p}]$, $K_2 = [0,\\sqrt{p};0,0]$ and p is the probability of decay."
   ]
  },
  {
   "cell_type": "markdown",
   "metadata": {},
   "source": [
    "#### 4.2 Noise modeling in CUDA Quantum with density-matrix simulator"
   ]
  },
  {
   "cell_type": "markdown",
   "metadata": {},
   "source": [
    "    Bit-flip channel"
   ]
  },
  {
   "cell_type": "code",
   "execution_count": 2,
   "metadata": {},
   "outputs": [
    {
     "name": "stdout",
     "output_type": "stream",
     "text": [
      "{ 0:1000 }\n",
      "{ 1:1000 }\n"
     ]
    }
   ],
   "source": [
    "import cudaq\n",
    "\n",
    "# Set the target to our density matrix simulator.\n",
    "cudaq.set_target('density-matrix-cpu')\n",
    "\n",
    "# CUDA Quantum supports several different models of noise. In this case,\n",
    "# we will examine the modeling of decoherence of the qubit state. This\n",
    "# will occur from \"bit flip\" errors, wherein the qubit has a user-specified\n",
    "# probability of undergoing an X-180 rotation.\n",
    "\n",
    "# We will begin by defining an empty noise model that we will add\n",
    "# these decoherence channels to.\n",
    "noise = cudaq.NoiseModel()\n",
    "\n",
    "# Bit flip channel with `1.0` probability of the qubit flipping 180 degrees.\n",
    "bit_flip = cudaq.BitFlipChannel(1.0)\n",
    "# We will apply this channel to any X gate on the qubit, giving each X-gate\n",
    "# a probability of `1.0` of undergoing an extra X-gate.\n",
    "noise.add_channel('x', [0], bit_flip)\n",
    "\n",
    "# Now we may define our simple kernel function and allocate a register\n",
    "# of qubits to it.\n",
    "kernel = cudaq.make_kernel()\n",
    "qubit = kernel.qalloc()\n",
    "\n",
    "# Apply an X-gate to the qubit.\n",
    "# It will remain in the |1> state with a probability of `1 - p = 0.0`.\n",
    "kernel.x(qubit)\n",
    "# Measure.\n",
    "kernel.mz(qubit)\n",
    "\n",
    "# Now we're ready to run the noisy simulation of our kernel.\n",
    "# Note: We must pass the noise model to sample via key-word.\n",
    "noisy_result = cudaq.sample(kernel, noise_model=noise)\n",
    "noisy_result.dump()\n",
    "\n",
    "# Our results should show all measurements in the |0> state, indicating\n",
    "# that the noise has successfully impacted the system.\n",
    "\n",
    "# To confirm this, we can run the simulation again without noise.\n",
    "# We should now see the qubit in the |1> state.\n",
    "noiseless_result = cudaq.sample(kernel)\n",
    "noiseless_result.dump()"
   ]
  },
  {
   "cell_type": "markdown",
   "metadata": {},
   "source": [
    " Custom Noise Model\n",
    "\n",
    "     Here, we demonstrate a custom noise model with the same Kraus operators as in the ampltiude damping channel, but following the same template we can build other noise models such as the Pauli noise model."
   ]
  },
  {
   "cell_type": "code",
   "execution_count": 3,
   "metadata": {},
   "outputs": [
    {
     "name": "stdout",
     "output_type": "stream",
     "text": [
      "{ 0:1000 }\n",
      "{ 0:495 1:505 }\n"
     ]
    }
   ],
   "source": [
    "import cudaq\n",
    "import numpy as np\n",
    "\n",
    "# Set the target to our density matrix simulator.\n",
    "cudaq.set_target('density-matrix-cpu')\n",
    "\n",
    "# CUDA Quantum supports custom noise models through the definition of\n",
    "# `KrausChannel`'s. In this case, we will define a set of `KrausOperator`'s\n",
    "# that  affect the same noise as the `AmplitudeDampingChannel`. This\n",
    "# channel will model the energy dissipation within our system via\n",
    "# environmental interactions. With a variable probability, it will\n",
    "# return the qubit to the |0> state.\n",
    "\n",
    "# We will begin by defining an empty noise model that we will add\n",
    "# our Kraus Channel to.\n",
    "noise = cudaq.NoiseModel()\n",
    "\n",
    "\n",
    "# We will define our Kraus Operators within functions, as to\n",
    "# allow for easy control over the noise probability.\n",
    "def kraus_operators(probability):\n",
    "    \"\"\"See Nielsen, Chuang Chapter 8.3.5 for definition source.\"\"\"\n",
    "    kraus_0 = np.array([[1, 0], [0, np.sqrt(1 - probability)]],\n",
    "                       dtype=np.complex128)\n",
    "    kraus_1 = np.array([[0, 0], [np.sqrt(probability), 0]], dtype=np.complex128)\n",
    "    return [kraus_0, kraus_1]\n",
    "\n",
    "\n",
    "# Manually defined amplitude damping channel with `1.0` probability\n",
    "# of the qubit decaying to the ground state.\n",
    "amplitude_damping = cudaq.KrausChannel(kraus_operators(1.0))\n",
    "# We will apply this channel to any Hadamard gate on the qubit.\n",
    "# Meaning, after each Hadamard on the qubit, there will be a\n",
    "# probability of `1.0` that the qubit decays back to ground.\n",
    "noise.add_channel('h', [0], amplitude_damping)\n",
    "\n",
    "# Now we may define our simple kernel function and allocate a qubit.\n",
    "kernel = cudaq.make_kernel()\n",
    "qubit = kernel.qalloc()\n",
    "\n",
    "# Then we apply a Hadamard gate to the qubit.\n",
    "# This will bring it to `1/sqrt(2) (|0> + |1>)`, where it will remain\n",
    "# with a probability of `1 - p = 0.0`.\n",
    "kernel.h(qubit)\n",
    "\n",
    "# Measure.\n",
    "kernel.mz(qubit)\n",
    "\n",
    "# Now we're ready to run the noisy simulation of our kernel.\n",
    "# Note: We must pass the noise model to sample via key-word.\n",
    "noisy_result = cudaq.sample(kernel, noise_model=noise)\n",
    "noisy_result.dump()\n",
    "\n",
    "# Our results should show all measurements in the |0> state, indicating\n",
    "# that the noise has successfully impacted the system.\n",
    "\n",
    "# To confirm this, we can run the simulation again without noise.\n",
    "# The qubit will now have a 50/50 mix of measurements between\n",
    "# |0> and |1>.\n",
    "noiseless_result = cudaq.sample(kernel)\n",
    "noiseless_result.dump()"
   ]
  },
  {
   "cell_type": "markdown",
   "metadata": {},
   "source": [
    "#### 3.2.2 Density matrix simulator\n",
    "    * Simulates quantum circuits under the influence of noise. \n",
    "    * Currently, it calls the QPP library under the hood and has only CPU support."
   ]
  }
 ],
 "metadata": {
  "kernelspec": {
   "display_name": "Python 3",
   "language": "python",
   "name": "python3"
  },
  "language_info": {
   "codemirror_mode": {
    "name": "ipython",
    "version": 3
   },
   "file_extension": ".py",
   "mimetype": "text/x-python",
   "name": "python",
   "nbconvert_exporter": "python",
   "pygments_lexer": "ipython3",
   "version": "3.10.12"
  }
 },
 "nbformat": 4,
 "nbformat_minor": 2
}
