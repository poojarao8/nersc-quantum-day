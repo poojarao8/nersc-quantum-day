{
 "cells": [
  {
   "cell_type": "markdown",
   "metadata": {},
   "source": [
    " * Targets\n",
    "        https://github.com/NVIDIA/cuda-quantum"
   ]
  },
  {
   "cell_type": "markdown",
   "metadata": {},
   "source": [
    "# CUDA Quantum Tutorial #2\n",
    "  \n",
    " \n",
    "    * Kernel builder\n",
    "        https://nvidia.github.io/cuda-quantum/latest/using/cudaq/builder.html\n",
    "  \n",
    "    * Simulation backends\n",
    "        https://nvidia.github.io/cuda-quantum/latest/using/simulators.html\n",
    "\n",
    "    * Variational algorithms\n",
    "        https://nvidia.github.io/cuda-quantum/latest/using/cudaq/variational.html\n",
    "        \n",
    "\n",
    "    Outline \n",
    "\n",
    "    1. CUDA Quantum Kernels continued\n",
    "        1.1 Adjoint \n",
    "        1.2 Conditionals \n",
    "\n",
    "    2. Variational quantum algorithms (VQAs)\n",
    "        2.1 General\n",
    "        2.2 VQA in CUDA Q\n",
    "            2.2.1 Using cudaq::observe and optimize explicitly\n",
    "            2.2.2 using cudaq.vqe()\n",
    "\n",
    "    3. Targets continued\n",
    "        3.1 Hardware backends\n",
    "            3.1.1 Quantum hadrware integration\n",
    "        3.2 Quantum Circuit Simulation\n",
    "            3.2.1 cuQuantum Simulator backends\n",
    "                 - Statevector (custatevec)\n",
    "                 - Tensornet (cutensornet)\n",
    "            3.2.2 Density-matrix (dm)\n",
    "            \n",
    "    4. Noise modeling \n",
    "        4.1 Background \n",
    "        4.2 With density-matrix (dm) backend\n",
    "\n",
    "    "
   ]
  },
  {
   "cell_type": "markdown",
   "metadata": {},
   "source": [
    "### 3. CUDA Quantum `target` \n",
    "A `target` is a specification of the desired platform and simulator / QPU. It can be specified as a runtime flag in Python. Alteratively, it can also be specified within the application code. \n",
    "\n",
    "     Simulation backends\n",
    "    - state-vector (`cuStateVec`) \n",
    "    - tensor-network (`cuTensorNet`)\n",
    "    - density-matrix (`dm`) \n",
    "\n",
    "     Hardware support\n",
    "    - CPU only, multi-threaded   \n",
    "    - Single GPU   \n",
    "    - Multi-GPU \n",
    "    - Multi-QPU \n",
    "    - Multi-node\n",
    "    - QPU "
   ]
  },
  {
   "cell_type": "code",
   "execution_count": 1,
   "metadata": {},
   "outputs": [],
   "source": [
    "### 5. Power of GPU acceleration 101"
   ]
  },
  {
   "cell_type": "code",
   "execution_count": 3,
   "metadata": {},
   "outputs": [
    {
     "name": "stdout",
     "output_type": "stream",
     "text": [
      "Target orca\n",
      "\tsimulator=qpp\n",
      "\tplatform=default\n",
      "\tdescription=\n",
      "\n",
      "Target quantinuum\n",
      "\tsimulator=qpp\n",
      "\tplatform=default\n",
      "\tdescription=\n",
      "\n",
      "Target oqc\n",
      "\tsimulator=qpp\n",
      "\tplatform=default\n",
      "\tdescription=\n",
      "\n",
      "Target nvidia-fp64\n",
      "\tsimulator=custatevec_fp64\n",
      "\tplatform=default\n",
      "\tdescription=The NVIDIA FP64 Target provides a simulated QPU via single-GPU cuStateVec integration on FP64 types.\n",
      "\n",
      "Target nvidia\n",
      "\tsimulator=custatevec_fp32\n",
      "\tplatform=default\n",
      "\tdescription=The NVIDIA Target provides a simulated QPU via single-GPU cuStateVec integration on FP32 types.\n",
      "\n",
      "Target nvidia-mqpu\n",
      "\tsimulator=custatevec_fp32\n",
      "\tplatform=mqpu\n",
      "\tdescription=The NVIDIA MQPU Target provides a simulated QPU for every available CUDA GPU on the underlying system. Each QPU is simulated via cuStateVec FP32. This target enables asynchronous parallel execution of quantum kernel tasks.\n",
      "\n",
      "Target default\n",
      "\tsimulator=qpp\n",
      "\tplatform=default\n",
      "\tdescription=Default OpenMP CPU-only simulated QPU.\n",
      "\n",
      "Target nvidia-mqpu-fp64\n",
      "\tsimulator=custatevec_fp64\n",
      "\tplatform=mqpu\n",
      "\tdescription=The NVIDIA MQPU FP64 Target provides a simulated QPU for every available CUDA GPU on the underlying system. Each QPU is simulated via cuStateVec FP64.\n",
      "\n",
      "Target photonics\n",
      "\tsimulator=qpp\n",
      "\tplatform=default\n",
      "\tdescription=\n",
      "\n",
      "Target iqm\n",
      "\tsimulator=qpp\n",
      "\tplatform=default\n",
      "\tdescription=\n",
      "\n",
      "Target density-matrix-cpu\n",
      "\tsimulator=dm\n",
      "\tplatform=default\n",
      "\tdescription=The Density Matrix CPU Target provides a simulated QPU via OpenMP-enabled, CPU-only density matrix emulation.\n",
      "\n",
      "Target ionq\n",
      "\tsimulator=qpp\n",
      "\tplatform=default\n",
      "\tdescription=\n",
      "\n"
     ]
    }
   ],
   "source": [
    "# Print all the available targets on your machine\n",
    "import cudaq\n",
    "\n",
    "targets = cudaq.get_targets()\n",
    "\n",
    "for t in targets:\n",
    "     print(t)"
   ]
  },
  {
   "cell_type": "markdown",
   "metadata": {},
   "source": [
    "### 3.2.1. Simulator backends - cuQuantum\n",
    "    CUDA Quantum's workhorse for quantum circuit simulation. It is a high performance library containing the following two types of simulators.\n",
    "\n",
    "##### Statevector simulator    \n",
    "    * State vector simulators serve as the main vehicle for circuit simulations. \n",
    "    * They maintain an accurate representation of the quantum state, known as the state vector, throughout the simulation. \n",
    "    * Each gate that is applied corresponds to a matrix-vector multiplication.\n",
    "\n",
    "##### Tensornet simulator \n",
    "    * The tensor network method is a technique that represents the quantum state of N qubits as a series of tensor contractions.\n",
    "    * The main challenge is to compute these tensor contractions efficiently. \n",
    "    * It can handle a large number of qubits for short circut depths.\n",
    "\n",
    "    Note: To run with the cutensornet target, you will need to pull the CUDA Quantum docker image with the tag latest-hpc."
   ]
  },
  {
   "cell_type": "markdown",
   "metadata": {},
   "source": [
    "    Make sure that that your Docker container was launched with the `--gpus all` flag turned on."
   ]
  },
  {
   "cell_type": "markdown",
   "metadata": {},
   "source": [
    "#### 3.2.2 Density matrix simulator\n",
    "    * Simulates quantum circuits under the influence of noise. \n",
    "    * Currently, it calls the QPP library under the hood and has only CPU support.\n",
    "\n",
    "    To discuss the density matrix simulator further, we need to introduce a couple of new concepts."
   ]
  },
  {
   "cell_type": "markdown",
   "metadata": {},
   "source": [
    "    Bell State \n",
    " $\\dfrac{1}{\\sqrt{2}}(\\ket{00} +\\ket{11})$, maximally entangled 2-qubit state.\n",
    "\n",
    "    GHZ state\n",
    "$\\dfrac{1}{\\sqrt{2}}(\\ket{0}^{\\otimes N} +\\ket{1}^{\\otimes N})$, maximally entangled N-qubit state, $N \\ge 3$."
   ]
  },
  {
   "cell_type": "code",
   "execution_count": 2,
   "metadata": {},
   "outputs": [
    {
     "name": "stdout",
     "output_type": "stream",
     "text": [
      "Preparing GHZ state for 30 qubits.\n",
      "{ 000000000000000000000000000000:521 111111111111111111111111111111:479 }\n"
     ]
    }
   ],
   "source": [
    "# To run with available gpu using a command line flag:\n",
    "# python3 ghz_state.py --target nvidia\n",
    "# To run with cpu (very slow) using a command line flag:\n",
    "# python3 ghz_state.py\n",
    "\n",
    "\n",
    "import cudaq\n",
    "\n",
    "cudaq.set_target(\"nvidia\") # change target to \"default\" for cpu\n",
    "\n",
    "def ghz_state(N):\n",
    "\n",
    "    kernel = cudaq.make_kernel()\n",
    "    q = kernel.qalloc(N)\n",
    "\n",
    "    kernel.h(q[0])\n",
    "    for i in range(N - 1):\n",
    "      kernel.cx(q[i], q[i + 1])\n",
    "\n",
    "    kernel.mz(q)\n",
    "    return kernel\n",
    "\n",
    "n = 30\n",
    "print(\"Preparing GHZ state for\", n, \"qubits.\")\n",
    "kernel = ghz_state(n)\n",
    "counts = cudaq.sample(kernel)\n",
    "counts.dump()"
   ]
  },
  {
   "cell_type": "markdown",
   "metadata": {},
   "source": []
  }
 ],
 "metadata": {
  "kernelspec": {
   "display_name": "Python 3",
   "language": "python",
   "name": "python3"
  },
  "language_info": {
   "codemirror_mode": {
    "name": "ipython",
    "version": 3
   },
   "file_extension": ".py",
   "mimetype": "text/x-python",
   "name": "python",
   "nbconvert_exporter": "python",
   "pygments_lexer": "ipython3",
   "version": "3.10.12"
  }
 },
 "nbformat": 4,
 "nbformat_minor": 2
}
